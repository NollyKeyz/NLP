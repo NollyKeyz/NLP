{
  "nbformat": 4,
  "nbformat_minor": 0,
  "metadata": {
    "colab": {
      "provenance": [],
      "gpuType": "T4",
      "authorship_tag": "ABX9TyPy4VmBuTRwn9GVykk1cIgR",
      "include_colab_link": true
    },
    "kernelspec": {
      "name": "python3",
      "display_name": "Python 3"
    },
    "language_info": {
      "name": "python"
    },
    "accelerator": "GPU"
  },
  "cells": [
    {
      "cell_type": "markdown",
      "metadata": {
        "id": "view-in-github",
        "colab_type": "text"
      },
      "source": [
        "<a href=\"https://colab.research.google.com/github/NollyKeyz/NLP/blob/main/Spam_folder_access.ipynb\" target=\"_parent\"><img src=\"https://colab.research.google.com/assets/colab-badge.svg\" alt=\"Open In Colab\"/></a>"
      ]
    },
    {
      "cell_type": "markdown",
      "source": [
        "Getting the email details of a user to enable access to Spam folder\n"
      ],
      "metadata": {
        "id": "4kQN3aKrqsxP"
      }
    },
    {
      "cell_type": "code",
      "source": [
        "# import relevant libraries\n",
        "\n",
        "import imaplib\n",
        "import tensorflow as tf\n",
        "import tensorflow_datasets as tfds\n",
        "import getpass\n",
        "import requests\n",
        "import pickle\n",
        "import os   #this is for running within the local system\n",
        "import email"
      ],
      "metadata": {
        "id": "1z3JCRtzq4op"
      },
      "execution_count": null,
      "outputs": []
    },
    {
      "cell_type": "code",
      "source": [
        "from google.colab import auth\n",
        "from google.auth.transport.requests import Request\n",
        "from google_auth_oauthlib.flow import InstalledAppFlow\n",
        "from googleapiclient.discovery import build\n",
        "from tensorflow import keras\n",
        "from google.colab import auth"
      ],
      "metadata": {
        "id": "UgD309N0rGZK"
      },
      "execution_count": null,
      "outputs": []
    },
    {
      "cell_type": "markdown",
      "source": [
        "For the next line, it is required that you enter details of the email for which the classification should take place. Know that for security reasons, the password cannot be your regular password but has to be a password generated for this purpose. This can be generated using the following process(for gmail);\n",
        "\n",
        "1. Login to your gmail account in a browser\n",
        "2. Click on your profile icon\n",
        "3. Select Manage your Google Account\n",
        "4. Click on the security tab under Google Account (On the left hand side)\n",
        "5. In the How you sign in to Google Section, Select 2-Step Verification\n",
        "6. Set 2-Step Verification to turned on\n",
        "7. Once it is set to on, Select App passwords at the bottom of the page\n",
        "8. Set the App name and then click on create\n",
        "9. the code displayed is the required code. Copy it securely"
      ],
      "metadata": {
        "id": "nx4WgXwerilj"
      }
    },
    {
      "cell_type": "markdown",
      "source": [
        "### List of IMAP Servers for major email platforms\n",
        "Gmail: imap.gmail.com\n",
        "\n",
        "Yahoo Mail: imap.mail.yahoo.com\n",
        "\n",
        "AOL Mail: imap.aol.com\n",
        "\n",
        "Outlook or Hotmail: outlook.office365.com"
      ],
      "metadata": {
        "id": "EXFRJjEbr9Ib"
      }
    },
    {
      "cell_type": "markdown",
      "source": [
        "#**Collecting User details for access to spam**"
      ],
      "metadata": {
        "id": "3PelYKwCsH0x"
      }
    },
    {
      "cell_type": "code",
      "source": [
        "# Set default values for the password\n",
        "Password1 = '?'\n",
        "Password2 = '/'\n",
        "\n",
        "# The first while loop here prompts the user to enter the IMAP for their own emails. Major IMAPs are:\n",
        "while True:\n",
        "  if Password1 == Password2:\n",
        "    break\n",
        "  # Prompt user for input\n",
        "  email_IMAP = input('Enter email IMAP (e.g., imap.gmail.com for Gmail): ')\n",
        "\n",
        "  while True:\n",
        "    Response1 = (input('kindly confirm that the email IMAP  ' + email_IMAP + ' is correct by keying YES or NO\\n').upper())\n",
        "\n",
        "    if Response1 == 'YES':\n",
        "      e_mail = input('Enter your email address: ')\n",
        "\n",
        "      while True:\n",
        "        Response2 = (input('kindly confirm that the email ' + e_mail + ' is correct by keying YES or NO\\n').upper())\n",
        "\n",
        "        if Response2 == 'YES':\n",
        "          while True:\n",
        "            Password1 = getpass.getpass(prompt='Enter your password (application specific): ')\n",
        "            Password2 = getpass.getpass(prompt='Enter the password again: ')\n",
        "\n",
        "            if Password1 == Password2:\n",
        "              print('The email IMAP you entered is ' + email_IMAP)\n",
        "              print('The email you entered is ' + e_mail)\n",
        "              print('you entered a matching password')\n",
        "              break\n",
        "            else:\n",
        "              print('Your password do not match; you need to enter your password again')\n",
        "          break\n",
        "        elif Response2 == 'NO':\n",
        "          print('re-enter your email')\n",
        "          e_mail = input('Enter your email address: ')\n",
        "        else:\n",
        "          print('You have entered an invalid response; Enter either YES or NO')\n",
        "      break\n",
        "    elif Response1 == 'NO':\n",
        "      print('re-enter your email IMAP ')\n",
        "      break\n",
        "    else:\n",
        "      print('Enter either YES or NO')"
      ],
      "metadata": {
        "id": "2zu_JZAQr7wP"
      },
      "execution_count": null,
      "outputs": []
    },
    {
      "cell_type": "code",
      "source": [],
      "metadata": {
        "id": "_sNOmdkGsbDx"
      },
      "execution_count": null,
      "outputs": []
    }
  ]
}