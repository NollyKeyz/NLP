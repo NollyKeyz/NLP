{
  "nbformat": 4,
  "nbformat_minor": 0,
  "metadata": {
    "colab": {
      "provenance": [],
      "authorship_tag": "ABX9TyO/IhMyl5qfR1mNyZP2w1Jo",
      "include_colab_link": true
    },
    "kernelspec": {
      "name": "python3",
      "display_name": "Python 3"
    },
    "language_info": {
      "name": "python"
    }
  },
  "cells": [
    {
      "cell_type": "markdown",
      "metadata": {
        "id": "view-in-github",
        "colab_type": "text"
      },
      "source": [
        "<a href=\"https://colab.research.google.com/github/NollyKeyz/NLP/blob/main/accessing_an_email.ipynb\" target=\"_parent\"><img src=\"https://colab.research.google.com/assets/colab-badge.svg\" alt=\"Open In Colab\"/></a>"
      ]
    },
    {
      "cell_type": "markdown",
      "source": [],
      "metadata": {
        "id": "gKgpY7mFg7Pt"
      }
    },
    {
      "cell_type": "markdown",
      "metadata": {
        "id": "b10VWEoaMI4V"
      },
      "source": [
        "For the next line, it is required that you enter details of the email for which the classification should take place. Know that for security reasons, the password cannot be your regular password but has to be a password generated for this purpose. This can be generated using the following process(for gmail but applicable to most email);\n",
        "\n",
        "1. Login to your email account in a browser\n",
        "2. Click on your profile icon\n",
        "3. Select Manage your Google Account\n",
        "4. Click on the security tab under Google Account (On the left hand side)\n",
        "5. In the How you sign in to Google Section, Select 2-Step Verification\n",
        "6. Set 2-Step Verification to turned on\n",
        "7. Once it is set to on, Select App passwords at the bottom of the page\n",
        "8. Set the App name and then click on create\n",
        "9. the code displayed is the required code. Copy it securely"
      ]
    },
    {
      "cell_type": "markdown",
      "source": [],
      "metadata": {
        "id": "iw2qG8p7hGxO"
      }
    },
    {
      "cell_type": "markdown",
      "metadata": {
        "id": "kYNTW6R5MUIH"
      },
      "source": [
        "### List of IMAP Servers for major email platforms\n",
        "Gmail: imap.gmail.com\n",
        "\n",
        "Yahoo Mail: imap.mail.yahoo.com\n",
        "\n",
        "AOL Mail: imap.aol.com\n",
        "\n",
        "Outlook or Hotmail: outlook.office365.com"
      ]
    },
    {
      "cell_type": "code",
      "execution_count": null,
      "metadata": {
        "id": "UdG2BMPKgxt-"
      },
      "outputs": [],
      "source": [
        "# @title Data Collection:\n",
        "\n",
        "# Use this part if you intend to try it on your own email. Use the steps stated earlier to generate your own password\n",
        "\n",
        "# Set default values for the password\n",
        "Password1 = '?'\n",
        "Password2 = '/'\n",
        "\n",
        "import getpass # the getpass allows one to enter information securely\n",
        "\n",
        "# The first while loop here prompts the user to enter the IMAP for their own emails. Major IMAPs are:\n",
        "while True:\n",
        "  if Password1 == Password2:\n",
        "    break\n",
        "  # Prompt user for input\n",
        "  email_IMAP = input('Enter email IMAP (e.g., imap.gmail.com for Gmail): ')\n",
        "\n",
        "  while True:\n",
        "    Response1 = (input('kindly confirm that the email IMAP  ' + email_IMAP + ' is correct by keying YES or NO\\n').upper())\n",
        "\n",
        "    if Response1 == 'YES':\n",
        "      e_mail = input('Enter your email address: ')\n",
        "\n",
        "      while True:\n",
        "        Response2 = (input('kindly confirm that the email ' + e_mail + ' is correct by keying YES or NO\\n').upper())\n",
        "\n",
        "        if Response2 == 'YES':\n",
        "          while True:\n",
        "            Password1 = getpass.getpass(prompt='Enter your password (application specific): ')\n",
        "            Password2 = getpass.getpass(prompt='Enter the password again: ')\n",
        "\n",
        "            if Password1 == Password2:\n",
        "              print('The email IMAP you entered is ' + email_IMAP)\n",
        "              print('The email you entered is ' + e_mail)\n",
        "              print('you entered a matching password')\n",
        "              break\n",
        "            else:\n",
        "              print('Your password do not match; you need to enter your password again')\n",
        "          break\n",
        "        elif Response2 == 'NO':\n",
        "          print('re-enter your email')\n",
        "          e_mail = input('Enter your email address: ')\n",
        "        else:\n",
        "          print('You have entered an invalid response; Enter either YES or NO')\n",
        "      break\n",
        "    elif Response1 == 'NO':\n",
        "      print('re-enter your email IMAP ')\n",
        "      break\n",
        "    else:\n",
        "      print('Enter either YES or NO')"
      ]
    }
  ]
}